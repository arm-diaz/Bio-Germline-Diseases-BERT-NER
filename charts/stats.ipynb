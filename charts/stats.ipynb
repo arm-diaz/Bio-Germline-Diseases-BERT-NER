{
 "cells": [
  {
   "cell_type": "code",
   "execution_count": 2,
   "metadata": {},
   "outputs": [],
   "source": [
    "import pandas as pd\n",
    "from collections import Counter\n"
   ]
  },
  {
   "cell_type": "code",
   "execution_count": 3,
   "metadata": {},
   "outputs": [],
   "source": [
    "# Read abstracts\n",
    "abstracts_df = pd.read_csv(\"../data/pubmed_abstracts.csv\")\n",
    "\n",
    "# Read sentences\n",
    "sentences_df = pd.read_csv(\"../results/pubmed_sentences.csv\")"
   ]
  },
  {
   "cell_type": "code",
   "execution_count": 4,
   "metadata": {},
   "outputs": [
    {
     "name": "stdout",
     "output_type": "stream",
     "text": [
      "Total number of abstracts: 11261\n",
      "Total number of sentences: 114311\n"
     ]
    }
   ],
   "source": [
    "print(f\"Total number of abstracts: {abstracts_df.shape[0]}\")\n",
    "print(f\"Total number of sentences: {sentences_df.shape[0]}\")"
   ]
  },
  {
   "cell_type": "code",
   "execution_count": null,
   "metadata": {},
   "outputs": [],
   "source": []
  }
 ],
 "metadata": {
  "kernelspec": {
   "display_name": "bio-germline-diseases-bert",
   "language": "python",
   "name": "bio-germline-diseases-bert"
  },
  "language_info": {
   "codemirror_mode": {
    "name": "ipython",
    "version": 3
   },
   "file_extension": ".py",
   "mimetype": "text/x-python",
   "name": "python",
   "nbconvert_exporter": "python",
   "pygments_lexer": "ipython3",
   "version": "3.7.16"
  },
  "orig_nbformat": 4,
  "vscode": {
   "interpreter": {
    "hash": "476d4bfc95db0393eb36293a589cb46ab252248048bca303020027004fedeb47"
   }
  }
 },
 "nbformat": 4,
 "nbformat_minor": 2
}
