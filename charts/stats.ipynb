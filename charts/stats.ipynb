{
 "cells": [
  {
   "cell_type": "code",
   "execution_count": 12,
   "metadata": {},
   "outputs": [],
   "source": [
    "import pandas as pd\n",
    "from collections import Counter\n"
   ]
  },
  {
   "cell_type": "code",
   "execution_count": 13,
   "metadata": {},
   "outputs": [],
   "source": [
    "# Read abstracts\n",
    "abstracts_df = pd.read_csv(\"../data/pubmed_abstracts.csv\")\n",
    "\n",
    "# Read sentences\n",
    "sentences_df = pd.read_csv(\"../results/pubmed_sentences.csv\")"
   ]
  },
  {
   "cell_type": "code",
   "execution_count": 17,
   "metadata": {},
   "outputs": [],
   "source": [
    "# Read gene name dictionary\n",
    "gene_dict_df = pd.read_csv(\"../data/gene_names.csv\")\n",
    "\n",
    "# Read disease name dictionary\n",
    "disease_dict_df = pd.read_csv(\"../data/gene_disease_assn.csv\")"
   ]
  },
  {
   "cell_type": "code",
   "execution_count": 18,
   "metadata": {},
   "outputs": [],
   "source": [
    "# Read biober gene entities\n",
    "gene_ner_df = pd.read_csv(\"../results/ner_genes.csv\")\n",
    "\n",
    "# Read biober disease entities\n",
    "disease_ner_df = pd.read_csv(\"../results/ner_diseases.csv\")"
   ]
  },
  {
   "cell_type": "code",
   "execution_count": 19,
   "metadata": {},
   "outputs": [],
   "source": [
    "unique_master_genes = list(gene_dict_df[\"GeneMasterName\"].unique())\n",
    "unique_alt_genes = list(gene_dict_df[\"AltNameGene\"].unique())\n",
    "unique_genes = list(set(unique_master_genes + unique_alt_genes))"
   ]
  },
  {
   "cell_type": "code",
   "execution_count": 20,
   "metadata": {},
   "outputs": [],
   "source": [
    "unique_master_diseases = list(disease_dict_df[\"DiseaseName\"].unique())\n",
    "unique_alt_diseases =list(set(list(disease_dict_df[\"OldDiseaseName\"].unique()) + list(disease_dict_df[\"Z_Old_DiseaseName\"].unique())))\n",
    "unique_diseases = list(set(unique_master_diseases + unique_alt_diseases))"
   ]
  },
  {
   "cell_type": "code",
   "execution_count": 21,
   "metadata": {},
   "outputs": [],
   "source": [
    "unique_ner_genes = list(gene_ner_df[\"word\"].unique())\n",
    "unique_ner_diseases = list(disease_ner_df[\"word\"].unique())"
   ]
  },
  {
   "cell_type": "code",
   "execution_count": 22,
   "metadata": {},
   "outputs": [
    {
     "name": "stdout",
     "output_type": "stream",
     "text": [
      "Total number of abstracts: 11261\n",
      "Total number of sentences: 114311\n",
      "Total number of master genes: 336\n",
      "Total number of alternative genes: 1310\n",
      "Total number of unique genes: 1351\n",
      "Total number of master diseases: 125\n",
      "Total number of alternative diseases: 452\n",
      "Total number of unique diseases: 501\n",
      "Total number of unique BioBERT gene entities: 19751\n",
      "Total number of unique BioBERT disease entities: 19135\n"
     ]
    }
   ],
   "source": [
    "print(f\"Total number of abstracts: {abstracts_df.shape[0]}\")\n",
    "print(f\"Total number of sentences: {sentences_df.shape[0]}\")\n",
    "print(f\"Total number of master genes: {len(unique_master_genes)}\")\n",
    "print(f\"Total number of alternative genes: {len(unique_alt_genes)}\")\n",
    "print(f\"Total number of unique genes: {len(unique_genes)}\")\n",
    "print(f\"Total number of master diseases: {len(unique_master_diseases)}\")\n",
    "print(f\"Total number of alternative diseases: {len(unique_alt_diseases)}\")\n",
    "print(f\"Total number of unique diseases: {len(unique_diseases)}\")\n",
    "print(f\"Total number of unique BioBERT gene entities: {len(unique_ner_genes)}\")\n",
    "print(f\"Total number of unique BioBERT disease entities: {len(unique_ner_diseases)}\")"
   ]
  },
  {
   "cell_type": "code",
   "execution_count": null,
   "metadata": {},
   "outputs": [],
   "source": []
  }
 ],
 "metadata": {
  "kernelspec": {
   "display_name": "bio-germline-diseases-bert",
   "language": "python",
   "name": "bio-germline-diseases-bert"
  },
  "orig_nbformat": 4,
  "vscode": {
   "interpreter": {
    "hash": "476d4bfc95db0393eb36293a589cb46ab252248048bca303020027004fedeb47"
   }
  }
 },
 "nbformat": 4,
 "nbformat_minor": 2
}
