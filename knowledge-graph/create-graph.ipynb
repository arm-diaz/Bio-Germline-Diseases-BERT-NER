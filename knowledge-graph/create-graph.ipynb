{
 "cells": [
  {
   "cell_type": "code",
   "execution_count": 2,
   "metadata": {},
   "outputs": [],
   "source": [
    "import pandas as pd\n",
    "from wordcloud import WordCloud\n",
    "from collections import Counter\n",
    "import matplotlib.pyplot as plt\n",
    "import numpy as np"
   ]
  },
  {
   "cell_type": "code",
   "execution_count": 3,
   "metadata": {},
   "outputs": [],
   "source": [
    "gene_df = pd.read_csv(\"../results/ner_disambiguated_genes.csv\")\n",
    "diseases_df = pd.read_csv(\"../results/ner_disambiguated_diseases.csv\")"
   ]
  },
  {
   "cell_type": "code",
   "execution_count": 4,
   "metadata": {},
   "outputs": [],
   "source": [
    "gene_ner_words = Counter(gene_df[gene_df[\"word\"].notnull()][\"word\"])\n",
    "gene_ner_dis_words = Counter(gene_df[gene_df[\"gene\"].notnull()][\"gene\"])"
   ]
  },
  {
   "cell_type": "code",
   "execution_count": 5,
   "metadata": {},
   "outputs": [],
   "source": [
    "diseases_ner_words = Counter(diseases_df[diseases_df[\"word\"].notnull()][\"word\"])\n",
    "diseases_ner_dis_words = Counter(diseases_df[diseases_df[\"diseases\"].notnull()][\"diseases\"])"
   ]
  },
  {
   "cell_type": "code",
   "execution_count": null,
   "metadata": {},
   "outputs": [],
   "source": [
    "gene_pubmed = gene_df[gene_df[\"gene\"].notnull()].groupby([\"gene\"])[\"pubmed_id\"].unique().reset_index()\n",
    "disease_pubmed = diseases_df[diseases_df[\"diseases\"].notnull()].groupby([\"diseases\"])[\"pubmed_id\"].unique().reset_index()\n",
    "pubmed_genes = gene_df[gene_df[\"gene\"].notnull()].groupby([\"pubmed_id\"])[\"gene\"].unique().reset_index()\n",
    "pubmed_diseases= diseases_df[diseases_df[\"diseases\"].notnull()].groupby([\"pubmed_id\"])[\"diseases\"].unique().reset_index()"
   ]
  },
  {
   "cell_type": "code",
   "execution_count": 8,
   "metadata": {},
   "outputs": [
    {
     "data": {
      "text/html": [
       "<div>\n",
       "<style scoped>\n",
       "    .dataframe tbody tr th:only-of-type {\n",
       "        vertical-align: middle;\n",
       "    }\n",
       "\n",
       "    .dataframe tbody tr th {\n",
       "        vertical-align: top;\n",
       "    }\n",
       "\n",
       "    .dataframe thead th {\n",
       "        text-align: right;\n",
       "    }\n",
       "</style>\n",
       "<table border=\"1\" class=\"dataframe\">\n",
       "  <thead>\n",
       "    <tr style=\"text-align: right;\">\n",
       "      <th></th>\n",
       "      <th>pubmed_id</th>\n",
       "      <th>gene</th>\n",
       "      <th>diseases</th>\n",
       "    </tr>\n",
       "  </thead>\n",
       "  <tbody>\n",
       "    <tr>\n",
       "      <th>0</th>\n",
       "      <td>1312696</td>\n",
       "      <td>[TP53, CDH1, PTCSC1]</td>\n",
       "      <td>[Lung Cancer]</td>\n",
       "    </tr>\n",
       "    <tr>\n",
       "      <th>1</th>\n",
       "      <td>1317264</td>\n",
       "      <td>[APC]</td>\n",
       "      <td>[Gastric Cancer, Colorectal Neoplasia]</td>\n",
       "    </tr>\n",
       "    <tr>\n",
       "      <th>2</th>\n",
       "      <td>1322785</td>\n",
       "      <td>[TP53, TERC, AR]</td>\n",
       "      <td>[Gastric Cancer]</td>\n",
       "    </tr>\n",
       "    <tr>\n",
       "      <th>3</th>\n",
       "      <td>1329510</td>\n",
       "      <td>[FA]</td>\n",
       "      <td>[Childhood Cancer, Colorectal Neoplasia, Hepat...</td>\n",
       "    </tr>\n",
       "    <tr>\n",
       "      <th>4</th>\n",
       "      <td>1338691</td>\n",
       "      <td>[APC]</td>\n",
       "      <td>[Colorectal Neoplasia, Gastric Cancer, Colorec...</td>\n",
       "    </tr>\n",
       "  </tbody>\n",
       "</table>\n",
       "</div>"
      ],
      "text/plain": [
       "   pubmed_id                  gene  \\\n",
       "0    1312696  [TP53, CDH1, PTCSC1]   \n",
       "1    1317264                 [APC]   \n",
       "2    1322785      [TP53, TERC, AR]   \n",
       "3    1329510                  [FA]   \n",
       "4    1338691                 [APC]   \n",
       "\n",
       "                                            diseases  \n",
       "0                                      [Lung Cancer]  \n",
       "1             [Gastric Cancer, Colorectal Neoplasia]  \n",
       "2                                   [Gastric Cancer]  \n",
       "3  [Childhood Cancer, Colorectal Neoplasia, Hepat...  \n",
       "4  [Colorectal Neoplasia, Gastric Cancer, Colorec...  "
      ]
     },
     "execution_count": 8,
     "metadata": {},
     "output_type": "execute_result"
    }
   ],
   "source": [
    "pubmed_data = pubmed_genes.merge(pubmed_diseases, on=[\"pubmed_id\"], how=\"left\")\n",
    "pubmed_data.head()"
   ]
  },
  {
   "cell_type": "code",
   "execution_count": 17,
   "metadata": {},
   "outputs": [],
   "source": [
    "genes = list(gene_pubmed[gene_pubmed[\"gene\"].notnull()][\"gene\"].unique())\n",
    "diseases = list(disease_pubmed[disease_pubmed[\"diseases\"].notnull()][\"diseases\"].unique())\n",
    "pubmed_ids = list(pubmed_data.pubmed_id.values)"
   ]
  },
  {
   "cell_type": "code",
   "execution_count": 56,
   "metadata": {},
   "outputs": [],
   "source": [
    "nl = \"\\r\\n\"\n",
    "sl = \"\\'\"\n",
    "disease_relationship = \"diseases_in\"\n",
    "gene_relationship = \"genes_in\"\n",
    "\n",
    "pubmed_gene_triples_ls = []\n",
    "pubmed_disease_triples_ls = []\n",
    "pubmed_triples_ls = []\n",
    "for _, rows in pubmed_data.iterrows():\n",
    "    tmp_gene = rows.gene\n",
    "    tmp_pubmed_id = rows.pubmed_id\n",
    "    tmp_disease = rows.diseases\n",
    "    if (tmp_disease is not None) and (type(tmp_disease) is not float):\n",
    "        pubmed_disease_triples_ls.append(\", \".join([f'(pubmed_{tmp_pubmed_id})-[:{disease_relationship}]->({d.replace(\"-\", \"_\").replace(\" \", \"_\").replace(\"/\", \"_\").replace(nl, \"_\").replace(\")\", \"\").replace(\"(\", \"_\").replace(sl, \"\")})' for d in tmp_disease]))\n",
    "        pubmed_gene_triples_ls.append(\", \".join([f'(pubmed_{tmp_pubmed_id})-[:{gene_relationship}]->({g.replace(\"-\", \"_\").replace(\" \", \"_\").replace(\"/\", \"_\").replace(nl, \"_\").replace(\")\", \"\").replace(\"(\", \"_\").replace(sl, \"\")})' for g in tmp_gene]))\n",
    "\n",
    "pubmed_triples_ls.extend(pubmed_gene_triples_ls)\n",
    "pubmed_triples_ls.extend(pubmed_disease_triples_ls)\n",
    "pubmed_gene_triples = \", \".join(pubmed_gene_triples_ls)\n",
    "pubmed_disease_triples = \", \".join(pubmed_disease_triples_ls)\n",
    "pubmed_triples = \", \".join(pubmed_triples_ls)"
   ]
  },
  {
   "cell_type": "code",
   "execution_count": 58,
   "metadata": {},
   "outputs": [
    {
     "name": "stdout",
     "output_type": "stream",
     "text": [
      "Total number of pubmed nodes: 8987\n",
      "Total number of genes nodes: 297\n",
      "Total number of diseases nodes: 130\n",
      "Total number of gene triples: 27493\n",
      "Total number of disease triples: 19254\n",
      "Total number of triples: 46747\n",
      "Total number of entities: 9414\n"
     ]
    }
   ],
   "source": [
    "print(f\"Total number of pubmed nodes: {len(pubmed_ids)}\")\n",
    "print(f\"Total number of genes nodes: {len(genes)}\")\n",
    "print(f\"Total number of diseases nodes: {len(diseases)}\")\n",
    "print(f\"Total number of gene triples: {len(pubmed_gene_triples.split(','))}\")\n",
    "print(f\"Total number of disease triples: {len(pubmed_disease_triples.split(','))}\")\n",
    "print(f\"Total number of triples: {len(pubmed_triples.split(','))}\")\n",
    "print(f\"Total number of entities: {len(genes) + len(diseases) + len(pubmed_ids)}\")"
   ]
  },
  {
   "cell_type": "code",
   "execution_count": 23,
   "metadata": {},
   "outputs": [],
   "source": [
    "cqlCreate = f\"\"\" \n",
    "CREATE\n",
    "{\", \".join([f'(pubmed_{p}:pubmed_id {{name: \"{p}\"}})' for p in pubmed_ids])},\n",
    "{\", \".join([f'({g.replace(\"-\", \"_\").replace(\" \", \"_\").replace(\"/\", \"_\").replace(nl, \"_\").replace(\")\", \"\").replace(\"(\", \"_\").replace(sl, \"\") }:gene {{name: \"{g.replace(nl, \" \").replace(sl, \"\")}\"}})' for g in genes])},\n",
    "{\", \".join([f'({d.replace(\"-\", \"_\").replace(\" \", \"_\").replace(\"/\", \"_\").replace(nl, \"_\").replace(\")\", \"\").replace(\"(\", \"_\").replace(sl, \"\") }:disease {{name: \"{d.replace(nl, \" \").replace(sl, \"\")}\"}})' for d in diseases])},\n",
    "{pubmed_relationships}\n",
    "\"\"\""
   ]
  },
  {
   "cell_type": "code",
   "execution_count": 16,
   "metadata": {},
   "outputs": [],
   "source": [
    "from neo4j import GraphDatabase\n",
    "\n",
    "# Database Credentials\n",
    "\n",
    "uri             = \"bolt://localhost:7687\"\n",
    "userName        = \"neo4j\"\n",
    "password = \"3eGAD963pZEbFNesk6ZUD15iUmQgZEWdjwZn4PG8gXk\"\n",
    "\n",
    "# Connect to the neo4j database server\n",
    "graphDB_Driver  = GraphDatabase.driver(uri, auth=(userName, password), max_connection_lifetime=200)\n"
   ]
  },
  {
   "cell_type": "code",
   "execution_count": 213,
   "metadata": {},
   "outputs": [],
   "source": [
    "# Execute the CQL query\n",
    "\n",
    "with graphDB_Driver.session() as graphDB_Session:\n",
    "\n",
    "    # Create nodes\n",
    "    graphDB_Session.run(cqlCreate)"
   ]
  },
  {
   "attachments": {},
   "cell_type": "markdown",
   "metadata": {},
   "source": [
    "Remove `\\n` and copy-paste into the Neo4j console"
   ]
  },
  {
   "cell_type": "code",
   "execution_count": 1,
   "metadata": {},
   "outputs": [
    {
     "data": {
      "text/plain": [
       "\"MATCH (g:gene)<-[:genes_in]-(p:pubmed_id)-[:diseases_in]->(d:disease) WHERE g.name = 'TP53' RETURN p, g\""
      ]
     },
     "execution_count": 1,
     "metadata": {},
     "output_type": "execute_result"
    }
   ],
   "source": [
    "# Neo4j queries\n",
    "\"MATCH (g:gene)<-[:genes_in]-(p:pubmed_id)-[:diseases_in]->(d:disease) WHERE p.name = '9024708' RETURN p, d, g\"\n",
    "\"MATCH (g:gene)<-[:genes_in]-(p:pubmed_id)-[:diseases_in]->(d:disease) WHERE d.name = 'Teeth (Benign)' RETURN p, d\"\n",
    "\"MATCH (g:gene)<-[:genes_in]-(p:pubmed_id)-[:diseases_in]->(d:disease) WHERE d.name = 'Teeth (Benign)' RETURN p, d, g\"\n",
    "\"MATCH (g:gene)<-[:genes_in]-(p:pubmed_id)-[:diseases_in]->(d:disease) WHERE g.name = 'AXIN2' RETURN p, g\"\n",
    "\"MATCH (g:gene)<-[:genes_in]-(p:pubmed_id)-[:diseases_in]->(d:disease) WHERE g.name = 'TP53' RETURN p, g\""
   ]
  }
 ],
 "metadata": {
  "kernelspec": {
   "display_name": "bio-germline-diseases-bert",
   "language": "python",
   "name": "bio-germline-diseases-bert"
  },
  "orig_nbformat": 4,
  "vscode": {
   "interpreter": {
    "hash": "476d4bfc95db0393eb36293a589cb46ab252248048bca303020027004fedeb47"
   }
  }
 },
 "nbformat": 4,
 "nbformat_minor": 2
}
